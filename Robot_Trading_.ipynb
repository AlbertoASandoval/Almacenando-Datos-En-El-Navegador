{
  "nbformat": 4,
  "nbformat_minor": 0,
  "metadata": {
    "colab": {
      "provenance": [],
      "toc_visible": true,
      "authorship_tag": "ABX9TyNV/dqsdI+XgU9sMZzRUkrO",
      "include_colab_link": true
    },
    "kernelspec": {
      "name": "python3",
      "display_name": "Python 3"
    },
    "language_info": {
      "name": "python"
    }
  },
  "cells": [
    {
      "cell_type": "markdown",
      "metadata": {
        "id": "view-in-github",
        "colab_type": "text"
      },
      "source": [
        "<a href=\"https://colab.research.google.com/github/AlbertoASandoval/Almacenando-Datos-En-El-Navegador/blob/projectoInicial/Robot_Trading_.ipynb\" target=\"_parent\"><img src=\"https://colab.research.google.com/assets/colab-badge.svg\" alt=\"Open In Colab\"/></a>"
      ]
    },
    {
      "cell_type": "markdown",
      "source": [
        "#  <font color='cyan' style='font-size: 66px;'> **Robot Trading**</font>"
      ],
      "metadata": {
        "id": "xKIUtcJOMIVz"
      }
    },
    {
      "cell_type": "markdown",
      "source": [
        "## <font color='deepskyblue' style='font-size: 33px;'>  1 - Configurar el Ambiente</font>\n",
        "\n",
        "---"
      ],
      "metadata": {
        "id": "WFgBxT4uMyY7"
      }
    },
    {
      "cell_type": "markdown",
      "source": [
        "### <font color='darkgrey' style='font-size: 33px;'> 1.1 Configurando el Ambiente</font>"
      ],
      "metadata": {
        "id": "rI_RhCpzM5qn"
      }
    },
    {
      "cell_type": "markdown",
      "source": [
        "- Definir las variables Globales\n",
        "\n",
        "\n",
        "\n",
        "1.   global     \n",
        "2.   precio_actual\n",
        "3.   tendencia\n",
        "4.   media_bitcoin\n",
        "5.   algoritmo_decision\n",
        "6.   df_bitcoin\n"
      ],
      "metadata": {
        "id": "q92FsxTtNCm4"
      }
    },
    {
      "cell_type": "markdown",
      "source": [
        "### <font color='darkgrey' style='font-size: 33px;'> 1.2 Importando librerias</font>"
      ],
      "metadata": {
        "id": "1IfUZ5n9OBpO"
      }
    },
    {
      "cell_type": "code",
      "source": [
        "\n",
        "import pandas as pd\n",
        "import numpy as np\n",
        "\n",
        "%matplotlib inline\n",
        "import matplotlib.pyplot as plt\n",
        "\n",
        "import yfinance as yf                                 #Datos\n",
        "\n",
        "import requests\n",
        "from bs4 import BeautifulSoup                         #Webscraping\n",
        "\n",
        "from IPython.display import clear_output\n",
        "import time\n",
        "\n"
      ],
      "metadata": {
        "id": "Mdg3ReOwN4Td"
      },
      "execution_count": 33,
      "outputs": []
    },
    {
      "cell_type": "markdown",
      "source": [
        "### <font color='darkgrey' style='font-size: 33px;'> 1.3 Comprobacion de las Librerias</font>"
      ],
      "metadata": {
        "id": "Dt6xEH4fOo4e"
      }
    },
    {
      "cell_type": "code",
      "source": [
        "\n",
        "!python -V\n",
        "print('---')\n",
        "!pip show Pandas | grep 'Name\\|Version'\n",
        "print('---')\n",
        "!pip show Numpy | grep 'Name\\|Version'\n",
        "print('---')\n",
        "!pip show Matplotlib | grep 'Name\\|Version'"
      ],
      "metadata": {
        "id": "ji6GZUjAOmFE",
        "colab": {
          "base_uri": "https://localhost:8080/"
        },
        "outputId": "2318a9ba-b82f-4dcc-a7dc-cd35c713b8cd"
      },
      "execution_count": null,
      "outputs": [
        {
          "output_type": "stream",
          "name": "stdout",
          "text": [
            "Python 3.10.12\n",
            "---\n",
            "Name: pandas\n",
            "Version: 1.5.3\n",
            "---\n",
            "Name: numpy\n",
            "Version: 1.23.5\n",
            "---\n",
            "Name: matplotlib\n",
            "Version: 3.7.1\n"
          ]
        }
      ]
    },
    {
      "cell_type": "markdown",
      "source": [
        "## <font color='deepskyblue' style='font-size: 33px;'>  2 - Obtencion de Datos</font>\n",
        "\n",
        "---"
      ],
      "metadata": {
        "id": "atDweZT-d-pU"
      }
    },
    {
      "cell_type": "markdown",
      "source": [
        "- Utilizaremos la biblioteca yfinance de Phyton, para extraer el historico de precios del Bitcoin en dolares BTC-USD\n",
        "\n",
        "- Extraeremos el historico de 7 dias en intervalos de 5 min\n",
        "\n",
        "- Se guardara en el dataframe df_bitcoin"
      ],
      "metadata": {
        "id": "prdmnJFIeMCx"
      }
    },
    {
      "cell_type": "markdown",
      "source": [
        "### <font color='darkgrey' style='font-size: 33px;'> 2.1 Importar la base historica del Bitcoin</font>"
      ],
      "metadata": {
        "id": "91_t2lJkeFg_"
      }
    },
    {
      "cell_type": "code",
      "source": [
        "\n",
        "# Crear la función importar_base_bitcoin()\n",
        "\n",
        "def importar_base_bitcoin():\n",
        "  global df_bitcoin, precio_actual, tendencia, media_bitcoin,  algoritmo_decision\n",
        "  btcnUsd = yf.Ticker(\"BTC-USD\")\n",
        "  df_bitcoin = btcnUsd.history(period=\"7d\", interval = \"5m\")\n",
        "\n",
        "importar_base_bitcoin()\n",
        "df_bitcoin\n",
        "\n"
      ],
      "metadata": {
        "colab": {
          "base_uri": "https://localhost:8080/",
          "height": 455
        },
        "id": "9p-NqfK5gAD-",
        "outputId": "473a6a1a-7d03-431a-9cad-f0968a923b9d"
      },
      "execution_count": null,
      "outputs": [
        {
          "output_type": "execute_result",
          "data": {
            "text/plain": [
              "                                   Open          High           Low  \\\n",
              "Datetime                                                              \n",
              "2023-10-10 00:00:00+00:00  27589.201172  27606.626953  27589.201172   \n",
              "2023-10-10 00:05:00+00:00  27594.962891  27627.582031  27589.503906   \n",
              "2023-10-10 00:10:00+00:00  27635.033203  27635.033203  27583.824219   \n",
              "2023-10-10 00:15:00+00:00  27584.701172  27596.203125  27584.701172   \n",
              "2023-10-10 00:20:00+00:00  27593.828125  27619.398438  27593.828125   \n",
              "...                                 ...           ...           ...   \n",
              "2023-10-16 18:40:00+00:00  28391.244141  28391.244141  28368.208984   \n",
              "2023-10-16 18:45:00+00:00  28383.634766  28437.589844  28383.634766   \n",
              "2023-10-16 18:50:00+00:00  28443.052734  28536.816406  28443.052734   \n",
              "2023-10-16 18:55:00+00:00  28520.853516  28574.261719  28520.853516   \n",
              "2023-10-16 19:00:00+00:00  28580.386719  28580.386719  28546.449219   \n",
              "\n",
              "                                  Close     Volume  Dividends  Stock Splits  \n",
              "Datetime                                                                     \n",
              "2023-10-10 00:00:00+00:00  27599.025391          0        0.0           0.0  \n",
              "2023-10-10 00:05:00+00:00  27627.582031   26801152        0.0           0.0  \n",
              "2023-10-10 00:10:00+00:00  27583.824219   17104896        0.0           0.0  \n",
              "2023-10-10 00:15:00+00:00  27588.859375   12485632        0.0           0.0  \n",
              "2023-10-10 00:20:00+00:00  27619.398438          0        0.0           0.0  \n",
              "...                                 ...        ...        ...           ...  \n",
              "2023-10-16 18:40:00+00:00  28384.232422   45815808        0.0           0.0  \n",
              "2023-10-16 18:45:00+00:00  28437.167969   24254464        0.0           0.0  \n",
              "2023-10-16 18:50:00+00:00  28532.439453   91121664        0.0           0.0  \n",
              "2023-10-16 18:55:00+00:00  28574.261719  193599488        0.0           0.0  \n",
              "2023-10-16 19:00:00+00:00  28546.449219   14870528        0.0           0.0  \n",
              "\n",
              "[1957 rows x 7 columns]"
            ],
            "text/html": [
              "\n",
              "  <div id=\"df-95c239c4-ed0a-40d6-8e14-c7eb3e291443\" class=\"colab-df-container\">\n",
              "    <div>\n",
              "<style scoped>\n",
              "    .dataframe tbody tr th:only-of-type {\n",
              "        vertical-align: middle;\n",
              "    }\n",
              "\n",
              "    .dataframe tbody tr th {\n",
              "        vertical-align: top;\n",
              "    }\n",
              "\n",
              "    .dataframe thead th {\n",
              "        text-align: right;\n",
              "    }\n",
              "</style>\n",
              "<table border=\"1\" class=\"dataframe\">\n",
              "  <thead>\n",
              "    <tr style=\"text-align: right;\">\n",
              "      <th></th>\n",
              "      <th>Open</th>\n",
              "      <th>High</th>\n",
              "      <th>Low</th>\n",
              "      <th>Close</th>\n",
              "      <th>Volume</th>\n",
              "      <th>Dividends</th>\n",
              "      <th>Stock Splits</th>\n",
              "    </tr>\n",
              "    <tr>\n",
              "      <th>Datetime</th>\n",
              "      <th></th>\n",
              "      <th></th>\n",
              "      <th></th>\n",
              "      <th></th>\n",
              "      <th></th>\n",
              "      <th></th>\n",
              "      <th></th>\n",
              "    </tr>\n",
              "  </thead>\n",
              "  <tbody>\n",
              "    <tr>\n",
              "      <th>2023-10-10 00:00:00+00:00</th>\n",
              "      <td>27589.201172</td>\n",
              "      <td>27606.626953</td>\n",
              "      <td>27589.201172</td>\n",
              "      <td>27599.025391</td>\n",
              "      <td>0</td>\n",
              "      <td>0.0</td>\n",
              "      <td>0.0</td>\n",
              "    </tr>\n",
              "    <tr>\n",
              "      <th>2023-10-10 00:05:00+00:00</th>\n",
              "      <td>27594.962891</td>\n",
              "      <td>27627.582031</td>\n",
              "      <td>27589.503906</td>\n",
              "      <td>27627.582031</td>\n",
              "      <td>26801152</td>\n",
              "      <td>0.0</td>\n",
              "      <td>0.0</td>\n",
              "    </tr>\n",
              "    <tr>\n",
              "      <th>2023-10-10 00:10:00+00:00</th>\n",
              "      <td>27635.033203</td>\n",
              "      <td>27635.033203</td>\n",
              "      <td>27583.824219</td>\n",
              "      <td>27583.824219</td>\n",
              "      <td>17104896</td>\n",
              "      <td>0.0</td>\n",
              "      <td>0.0</td>\n",
              "    </tr>\n",
              "    <tr>\n",
              "      <th>2023-10-10 00:15:00+00:00</th>\n",
              "      <td>27584.701172</td>\n",
              "      <td>27596.203125</td>\n",
              "      <td>27584.701172</td>\n",
              "      <td>27588.859375</td>\n",
              "      <td>12485632</td>\n",
              "      <td>0.0</td>\n",
              "      <td>0.0</td>\n",
              "    </tr>\n",
              "    <tr>\n",
              "      <th>2023-10-10 00:20:00+00:00</th>\n",
              "      <td>27593.828125</td>\n",
              "      <td>27619.398438</td>\n",
              "      <td>27593.828125</td>\n",
              "      <td>27619.398438</td>\n",
              "      <td>0</td>\n",
              "      <td>0.0</td>\n",
              "      <td>0.0</td>\n",
              "    </tr>\n",
              "    <tr>\n",
              "      <th>...</th>\n",
              "      <td>...</td>\n",
              "      <td>...</td>\n",
              "      <td>...</td>\n",
              "      <td>...</td>\n",
              "      <td>...</td>\n",
              "      <td>...</td>\n",
              "      <td>...</td>\n",
              "    </tr>\n",
              "    <tr>\n",
              "      <th>2023-10-16 18:40:00+00:00</th>\n",
              "      <td>28391.244141</td>\n",
              "      <td>28391.244141</td>\n",
              "      <td>28368.208984</td>\n",
              "      <td>28384.232422</td>\n",
              "      <td>45815808</td>\n",
              "      <td>0.0</td>\n",
              "      <td>0.0</td>\n",
              "    </tr>\n",
              "    <tr>\n",
              "      <th>2023-10-16 18:45:00+00:00</th>\n",
              "      <td>28383.634766</td>\n",
              "      <td>28437.589844</td>\n",
              "      <td>28383.634766</td>\n",
              "      <td>28437.167969</td>\n",
              "      <td>24254464</td>\n",
              "      <td>0.0</td>\n",
              "      <td>0.0</td>\n",
              "    </tr>\n",
              "    <tr>\n",
              "      <th>2023-10-16 18:50:00+00:00</th>\n",
              "      <td>28443.052734</td>\n",
              "      <td>28536.816406</td>\n",
              "      <td>28443.052734</td>\n",
              "      <td>28532.439453</td>\n",
              "      <td>91121664</td>\n",
              "      <td>0.0</td>\n",
              "      <td>0.0</td>\n",
              "    </tr>\n",
              "    <tr>\n",
              "      <th>2023-10-16 18:55:00+00:00</th>\n",
              "      <td>28520.853516</td>\n",
              "      <td>28574.261719</td>\n",
              "      <td>28520.853516</td>\n",
              "      <td>28574.261719</td>\n",
              "      <td>193599488</td>\n",
              "      <td>0.0</td>\n",
              "      <td>0.0</td>\n",
              "    </tr>\n",
              "    <tr>\n",
              "      <th>2023-10-16 19:00:00+00:00</th>\n",
              "      <td>28580.386719</td>\n",
              "      <td>28580.386719</td>\n",
              "      <td>28546.449219</td>\n",
              "      <td>28546.449219</td>\n",
              "      <td>14870528</td>\n",
              "      <td>0.0</td>\n",
              "      <td>0.0</td>\n",
              "    </tr>\n",
              "  </tbody>\n",
              "</table>\n",
              "<p>1957 rows × 7 columns</p>\n",
              "</div>\n",
              "    <div class=\"colab-df-buttons\">\n",
              "\n",
              "  <div class=\"colab-df-container\">\n",
              "    <button class=\"colab-df-convert\" onclick=\"convertToInteractive('df-95c239c4-ed0a-40d6-8e14-c7eb3e291443')\"\n",
              "            title=\"Convert this dataframe to an interactive table.\"\n",
              "            style=\"display:none;\">\n",
              "\n",
              "  <svg xmlns=\"http://www.w3.org/2000/svg\" height=\"24px\" viewBox=\"0 -960 960 960\">\n",
              "    <path d=\"M120-120v-720h720v720H120Zm60-500h600v-160H180v160Zm220 220h160v-160H400v160Zm0 220h160v-160H400v160ZM180-400h160v-160H180v160Zm440 0h160v-160H620v160ZM180-180h160v-160H180v160Zm440 0h160v-160H620v160Z\"/>\n",
              "  </svg>\n",
              "    </button>\n",
              "\n",
              "  <style>\n",
              "    .colab-df-container {\n",
              "      display:flex;\n",
              "      gap: 12px;\n",
              "    }\n",
              "\n",
              "    .colab-df-convert {\n",
              "      background-color: #E8F0FE;\n",
              "      border: none;\n",
              "      border-radius: 50%;\n",
              "      cursor: pointer;\n",
              "      display: none;\n",
              "      fill: #1967D2;\n",
              "      height: 32px;\n",
              "      padding: 0 0 0 0;\n",
              "      width: 32px;\n",
              "    }\n",
              "\n",
              "    .colab-df-convert:hover {\n",
              "      background-color: #E2EBFA;\n",
              "      box-shadow: 0px 1px 2px rgba(60, 64, 67, 0.3), 0px 1px 3px 1px rgba(60, 64, 67, 0.15);\n",
              "      fill: #174EA6;\n",
              "    }\n",
              "\n",
              "    .colab-df-buttons div {\n",
              "      margin-bottom: 4px;\n",
              "    }\n",
              "\n",
              "    [theme=dark] .colab-df-convert {\n",
              "      background-color: #3B4455;\n",
              "      fill: #D2E3FC;\n",
              "    }\n",
              "\n",
              "    [theme=dark] .colab-df-convert:hover {\n",
              "      background-color: #434B5C;\n",
              "      box-shadow: 0px 1px 3px 1px rgba(0, 0, 0, 0.15);\n",
              "      filter: drop-shadow(0px 1px 2px rgba(0, 0, 0, 0.3));\n",
              "      fill: #FFFFFF;\n",
              "    }\n",
              "  </style>\n",
              "\n",
              "    <script>\n",
              "      const buttonEl =\n",
              "        document.querySelector('#df-95c239c4-ed0a-40d6-8e14-c7eb3e291443 button.colab-df-convert');\n",
              "      buttonEl.style.display =\n",
              "        google.colab.kernel.accessAllowed ? 'block' : 'none';\n",
              "\n",
              "      async function convertToInteractive(key) {\n",
              "        const element = document.querySelector('#df-95c239c4-ed0a-40d6-8e14-c7eb3e291443');\n",
              "        const dataTable =\n",
              "          await google.colab.kernel.invokeFunction('convertToInteractive',\n",
              "                                                    [key], {});\n",
              "        if (!dataTable) return;\n",
              "\n",
              "        const docLinkHtml = 'Like what you see? Visit the ' +\n",
              "          '<a target=\"_blank\" href=https://colab.research.google.com/notebooks/data_table.ipynb>data table notebook</a>'\n",
              "          + ' to learn more about interactive tables.';\n",
              "        element.innerHTML = '';\n",
              "        dataTable['output_type'] = 'display_data';\n",
              "        await google.colab.output.renderOutput(dataTable, element);\n",
              "        const docLink = document.createElement('div');\n",
              "        docLink.innerHTML = docLinkHtml;\n",
              "        element.appendChild(docLink);\n",
              "      }\n",
              "    </script>\n",
              "  </div>\n",
              "\n",
              "\n",
              "<div id=\"df-54b71c44-efbd-45cc-a5a9-51ecb2a4d6e4\">\n",
              "  <button class=\"colab-df-quickchart\" onclick=\"quickchart('df-54b71c44-efbd-45cc-a5a9-51ecb2a4d6e4')\"\n",
              "            title=\"Suggest charts.\"\n",
              "            style=\"display:none;\">\n",
              "\n",
              "<svg xmlns=\"http://www.w3.org/2000/svg\" height=\"24px\"viewBox=\"0 0 24 24\"\n",
              "     width=\"24px\">\n",
              "    <g>\n",
              "        <path d=\"M19 3H5c-1.1 0-2 .9-2 2v14c0 1.1.9 2 2 2h14c1.1 0 2-.9 2-2V5c0-1.1-.9-2-2-2zM9 17H7v-7h2v7zm4 0h-2V7h2v10zm4 0h-2v-4h2v4z\"/>\n",
              "    </g>\n",
              "</svg>\n",
              "  </button>\n",
              "\n",
              "<style>\n",
              "  .colab-df-quickchart {\n",
              "      --bg-color: #E8F0FE;\n",
              "      --fill-color: #1967D2;\n",
              "      --hover-bg-color: #E2EBFA;\n",
              "      --hover-fill-color: #174EA6;\n",
              "      --disabled-fill-color: #AAA;\n",
              "      --disabled-bg-color: #DDD;\n",
              "  }\n",
              "\n",
              "  [theme=dark] .colab-df-quickchart {\n",
              "      --bg-color: #3B4455;\n",
              "      --fill-color: #D2E3FC;\n",
              "      --hover-bg-color: #434B5C;\n",
              "      --hover-fill-color: #FFFFFF;\n",
              "      --disabled-bg-color: #3B4455;\n",
              "      --disabled-fill-color: #666;\n",
              "  }\n",
              "\n",
              "  .colab-df-quickchart {\n",
              "    background-color: var(--bg-color);\n",
              "    border: none;\n",
              "    border-radius: 50%;\n",
              "    cursor: pointer;\n",
              "    display: none;\n",
              "    fill: var(--fill-color);\n",
              "    height: 32px;\n",
              "    padding: 0;\n",
              "    width: 32px;\n",
              "  }\n",
              "\n",
              "  .colab-df-quickchart:hover {\n",
              "    background-color: var(--hover-bg-color);\n",
              "    box-shadow: 0 1px 2px rgba(60, 64, 67, 0.3), 0 1px 3px 1px rgba(60, 64, 67, 0.15);\n",
              "    fill: var(--button-hover-fill-color);\n",
              "  }\n",
              "\n",
              "  .colab-df-quickchart-complete:disabled,\n",
              "  .colab-df-quickchart-complete:disabled:hover {\n",
              "    background-color: var(--disabled-bg-color);\n",
              "    fill: var(--disabled-fill-color);\n",
              "    box-shadow: none;\n",
              "  }\n",
              "\n",
              "  .colab-df-spinner {\n",
              "    border: 2px solid var(--fill-color);\n",
              "    border-color: transparent;\n",
              "    border-bottom-color: var(--fill-color);\n",
              "    animation:\n",
              "      spin 1s steps(1) infinite;\n",
              "  }\n",
              "\n",
              "  @keyframes spin {\n",
              "    0% {\n",
              "      border-color: transparent;\n",
              "      border-bottom-color: var(--fill-color);\n",
              "      border-left-color: var(--fill-color);\n",
              "    }\n",
              "    20% {\n",
              "      border-color: transparent;\n",
              "      border-left-color: var(--fill-color);\n",
              "      border-top-color: var(--fill-color);\n",
              "    }\n",
              "    30% {\n",
              "      border-color: transparent;\n",
              "      border-left-color: var(--fill-color);\n",
              "      border-top-color: var(--fill-color);\n",
              "      border-right-color: var(--fill-color);\n",
              "    }\n",
              "    40% {\n",
              "      border-color: transparent;\n",
              "      border-right-color: var(--fill-color);\n",
              "      border-top-color: var(--fill-color);\n",
              "    }\n",
              "    60% {\n",
              "      border-color: transparent;\n",
              "      border-right-color: var(--fill-color);\n",
              "    }\n",
              "    80% {\n",
              "      border-color: transparent;\n",
              "      border-right-color: var(--fill-color);\n",
              "      border-bottom-color: var(--fill-color);\n",
              "    }\n",
              "    90% {\n",
              "      border-color: transparent;\n",
              "      border-bottom-color: var(--fill-color);\n",
              "    }\n",
              "  }\n",
              "</style>\n",
              "\n",
              "  <script>\n",
              "    async function quickchart(key) {\n",
              "      const quickchartButtonEl =\n",
              "        document.querySelector('#' + key + ' button');\n",
              "      quickchartButtonEl.disabled = true;  // To prevent multiple clicks.\n",
              "      quickchartButtonEl.classList.add('colab-df-spinner');\n",
              "      try {\n",
              "        const charts = await google.colab.kernel.invokeFunction(\n",
              "            'suggestCharts', [key], {});\n",
              "      } catch (error) {\n",
              "        console.error('Error during call to suggestCharts:', error);\n",
              "      }\n",
              "      quickchartButtonEl.classList.remove('colab-df-spinner');\n",
              "      quickchartButtonEl.classList.add('colab-df-quickchart-complete');\n",
              "    }\n",
              "    (() => {\n",
              "      let quickchartButtonEl =\n",
              "        document.querySelector('#df-54b71c44-efbd-45cc-a5a9-51ecb2a4d6e4 button');\n",
              "      quickchartButtonEl.style.display =\n",
              "        google.colab.kernel.accessAllowed ? 'block' : 'none';\n",
              "    })();\n",
              "  </script>\n",
              "</div>\n",
              "    </div>\n",
              "  </div>\n"
            ]
          },
          "metadata": {},
          "execution_count": 29
        }
      ]
    },
    {
      "cell_type": "code",
      "source": [
        "df_bitcoin.describe()"
      ],
      "metadata": {
        "colab": {
          "base_uri": "https://localhost:8080/",
          "height": 300
        },
        "id": "RpB-3gdXwE5H",
        "outputId": "9c5e5797-c88b-43b8-db92-2240552385f8"
      },
      "execution_count": null,
      "outputs": [
        {
          "output_type": "execute_result",
          "data": {
            "text/plain": [
              "               Open          High           Low         Close        Volume  \\\n",
              "count   1957.000000   1957.000000   1957.000000   1957.000000  1.957000e+03   \n",
              "mean   27081.236987  27090.308022  27072.716535  27081.737075  2.096414e+07   \n",
              "std      391.730189    397.020768    387.030509    392.579653  1.113030e+08   \n",
              "min    26561.099609  26595.152344  26558.320312  26569.714844  0.000000e+00   \n",
              "25%    26814.619141  26822.437500  26807.626953  26814.324219  0.000000e+00   \n",
              "50%    26895.550781  26898.484375  26891.771484  26895.351562  4.776960e+05   \n",
              "75%    27281.558594  27296.333984  27273.828125  27280.076172  1.428224e+07   \n",
              "max    29388.390625  29448.138672  29388.390625  29448.138672  3.318054e+09   \n",
              "\n",
              "       Dividends  Stock Splits  \n",
              "count     1957.0        1957.0  \n",
              "mean         0.0           0.0  \n",
              "std          0.0           0.0  \n",
              "min          0.0           0.0  \n",
              "25%          0.0           0.0  \n",
              "50%          0.0           0.0  \n",
              "75%          0.0           0.0  \n",
              "max          0.0           0.0  "
            ],
            "text/html": [
              "\n",
              "  <div id=\"df-b1395c2c-fce5-44cf-9c89-1c3c40996331\" class=\"colab-df-container\">\n",
              "    <div>\n",
              "<style scoped>\n",
              "    .dataframe tbody tr th:only-of-type {\n",
              "        vertical-align: middle;\n",
              "    }\n",
              "\n",
              "    .dataframe tbody tr th {\n",
              "        vertical-align: top;\n",
              "    }\n",
              "\n",
              "    .dataframe thead th {\n",
              "        text-align: right;\n",
              "    }\n",
              "</style>\n",
              "<table border=\"1\" class=\"dataframe\">\n",
              "  <thead>\n",
              "    <tr style=\"text-align: right;\">\n",
              "      <th></th>\n",
              "      <th>Open</th>\n",
              "      <th>High</th>\n",
              "      <th>Low</th>\n",
              "      <th>Close</th>\n",
              "      <th>Volume</th>\n",
              "      <th>Dividends</th>\n",
              "      <th>Stock Splits</th>\n",
              "    </tr>\n",
              "  </thead>\n",
              "  <tbody>\n",
              "    <tr>\n",
              "      <th>count</th>\n",
              "      <td>1957.000000</td>\n",
              "      <td>1957.000000</td>\n",
              "      <td>1957.000000</td>\n",
              "      <td>1957.000000</td>\n",
              "      <td>1.957000e+03</td>\n",
              "      <td>1957.0</td>\n",
              "      <td>1957.0</td>\n",
              "    </tr>\n",
              "    <tr>\n",
              "      <th>mean</th>\n",
              "      <td>27081.236987</td>\n",
              "      <td>27090.308022</td>\n",
              "      <td>27072.716535</td>\n",
              "      <td>27081.737075</td>\n",
              "      <td>2.096414e+07</td>\n",
              "      <td>0.0</td>\n",
              "      <td>0.0</td>\n",
              "    </tr>\n",
              "    <tr>\n",
              "      <th>std</th>\n",
              "      <td>391.730189</td>\n",
              "      <td>397.020768</td>\n",
              "      <td>387.030509</td>\n",
              "      <td>392.579653</td>\n",
              "      <td>1.113030e+08</td>\n",
              "      <td>0.0</td>\n",
              "      <td>0.0</td>\n",
              "    </tr>\n",
              "    <tr>\n",
              "      <th>min</th>\n",
              "      <td>26561.099609</td>\n",
              "      <td>26595.152344</td>\n",
              "      <td>26558.320312</td>\n",
              "      <td>26569.714844</td>\n",
              "      <td>0.000000e+00</td>\n",
              "      <td>0.0</td>\n",
              "      <td>0.0</td>\n",
              "    </tr>\n",
              "    <tr>\n",
              "      <th>25%</th>\n",
              "      <td>26814.619141</td>\n",
              "      <td>26822.437500</td>\n",
              "      <td>26807.626953</td>\n",
              "      <td>26814.324219</td>\n",
              "      <td>0.000000e+00</td>\n",
              "      <td>0.0</td>\n",
              "      <td>0.0</td>\n",
              "    </tr>\n",
              "    <tr>\n",
              "      <th>50%</th>\n",
              "      <td>26895.550781</td>\n",
              "      <td>26898.484375</td>\n",
              "      <td>26891.771484</td>\n",
              "      <td>26895.351562</td>\n",
              "      <td>4.776960e+05</td>\n",
              "      <td>0.0</td>\n",
              "      <td>0.0</td>\n",
              "    </tr>\n",
              "    <tr>\n",
              "      <th>75%</th>\n",
              "      <td>27281.558594</td>\n",
              "      <td>27296.333984</td>\n",
              "      <td>27273.828125</td>\n",
              "      <td>27280.076172</td>\n",
              "      <td>1.428224e+07</td>\n",
              "      <td>0.0</td>\n",
              "      <td>0.0</td>\n",
              "    </tr>\n",
              "    <tr>\n",
              "      <th>max</th>\n",
              "      <td>29388.390625</td>\n",
              "      <td>29448.138672</td>\n",
              "      <td>29388.390625</td>\n",
              "      <td>29448.138672</td>\n",
              "      <td>3.318054e+09</td>\n",
              "      <td>0.0</td>\n",
              "      <td>0.0</td>\n",
              "    </tr>\n",
              "  </tbody>\n",
              "</table>\n",
              "</div>\n",
              "    <div class=\"colab-df-buttons\">\n",
              "\n",
              "  <div class=\"colab-df-container\">\n",
              "    <button class=\"colab-df-convert\" onclick=\"convertToInteractive('df-b1395c2c-fce5-44cf-9c89-1c3c40996331')\"\n",
              "            title=\"Convert this dataframe to an interactive table.\"\n",
              "            style=\"display:none;\">\n",
              "\n",
              "  <svg xmlns=\"http://www.w3.org/2000/svg\" height=\"24px\" viewBox=\"0 -960 960 960\">\n",
              "    <path d=\"M120-120v-720h720v720H120Zm60-500h600v-160H180v160Zm220 220h160v-160H400v160Zm0 220h160v-160H400v160ZM180-400h160v-160H180v160Zm440 0h160v-160H620v160ZM180-180h160v-160H180v160Zm440 0h160v-160H620v160Z\"/>\n",
              "  </svg>\n",
              "    </button>\n",
              "\n",
              "  <style>\n",
              "    .colab-df-container {\n",
              "      display:flex;\n",
              "      gap: 12px;\n",
              "    }\n",
              "\n",
              "    .colab-df-convert {\n",
              "      background-color: #E8F0FE;\n",
              "      border: none;\n",
              "      border-radius: 50%;\n",
              "      cursor: pointer;\n",
              "      display: none;\n",
              "      fill: #1967D2;\n",
              "      height: 32px;\n",
              "      padding: 0 0 0 0;\n",
              "      width: 32px;\n",
              "    }\n",
              "\n",
              "    .colab-df-convert:hover {\n",
              "      background-color: #E2EBFA;\n",
              "      box-shadow: 0px 1px 2px rgba(60, 64, 67, 0.3), 0px 1px 3px 1px rgba(60, 64, 67, 0.15);\n",
              "      fill: #174EA6;\n",
              "    }\n",
              "\n",
              "    .colab-df-buttons div {\n",
              "      margin-bottom: 4px;\n",
              "    }\n",
              "\n",
              "    [theme=dark] .colab-df-convert {\n",
              "      background-color: #3B4455;\n",
              "      fill: #D2E3FC;\n",
              "    }\n",
              "\n",
              "    [theme=dark] .colab-df-convert:hover {\n",
              "      background-color: #434B5C;\n",
              "      box-shadow: 0px 1px 3px 1px rgba(0, 0, 0, 0.15);\n",
              "      filter: drop-shadow(0px 1px 2px rgba(0, 0, 0, 0.3));\n",
              "      fill: #FFFFFF;\n",
              "    }\n",
              "  </style>\n",
              "\n",
              "    <script>\n",
              "      const buttonEl =\n",
              "        document.querySelector('#df-b1395c2c-fce5-44cf-9c89-1c3c40996331 button.colab-df-convert');\n",
              "      buttonEl.style.display =\n",
              "        google.colab.kernel.accessAllowed ? 'block' : 'none';\n",
              "\n",
              "      async function convertToInteractive(key) {\n",
              "        const element = document.querySelector('#df-b1395c2c-fce5-44cf-9c89-1c3c40996331');\n",
              "        const dataTable =\n",
              "          await google.colab.kernel.invokeFunction('convertToInteractive',\n",
              "                                                    [key], {});\n",
              "        if (!dataTable) return;\n",
              "\n",
              "        const docLinkHtml = 'Like what you see? Visit the ' +\n",
              "          '<a target=\"_blank\" href=https://colab.research.google.com/notebooks/data_table.ipynb>data table notebook</a>'\n",
              "          + ' to learn more about interactive tables.';\n",
              "        element.innerHTML = '';\n",
              "        dataTable['output_type'] = 'display_data';\n",
              "        await google.colab.output.renderOutput(dataTable, element);\n",
              "        const docLink = document.createElement('div');\n",
              "        docLink.innerHTML = docLinkHtml;\n",
              "        element.appendChild(docLink);\n",
              "      }\n",
              "    </script>\n",
              "  </div>\n",
              "\n",
              "\n",
              "<div id=\"df-afd08dbf-9d7c-40ca-af04-e677542ed8c4\">\n",
              "  <button class=\"colab-df-quickchart\" onclick=\"quickchart('df-afd08dbf-9d7c-40ca-af04-e677542ed8c4')\"\n",
              "            title=\"Suggest charts.\"\n",
              "            style=\"display:none;\">\n",
              "\n",
              "<svg xmlns=\"http://www.w3.org/2000/svg\" height=\"24px\"viewBox=\"0 0 24 24\"\n",
              "     width=\"24px\">\n",
              "    <g>\n",
              "        <path d=\"M19 3H5c-1.1 0-2 .9-2 2v14c0 1.1.9 2 2 2h14c1.1 0 2-.9 2-2V5c0-1.1-.9-2-2-2zM9 17H7v-7h2v7zm4 0h-2V7h2v10zm4 0h-2v-4h2v4z\"/>\n",
              "    </g>\n",
              "</svg>\n",
              "  </button>\n",
              "\n",
              "<style>\n",
              "  .colab-df-quickchart {\n",
              "      --bg-color: #E8F0FE;\n",
              "      --fill-color: #1967D2;\n",
              "      --hover-bg-color: #E2EBFA;\n",
              "      --hover-fill-color: #174EA6;\n",
              "      --disabled-fill-color: #AAA;\n",
              "      --disabled-bg-color: #DDD;\n",
              "  }\n",
              "\n",
              "  [theme=dark] .colab-df-quickchart {\n",
              "      --bg-color: #3B4455;\n",
              "      --fill-color: #D2E3FC;\n",
              "      --hover-bg-color: #434B5C;\n",
              "      --hover-fill-color: #FFFFFF;\n",
              "      --disabled-bg-color: #3B4455;\n",
              "      --disabled-fill-color: #666;\n",
              "  }\n",
              "\n",
              "  .colab-df-quickchart {\n",
              "    background-color: var(--bg-color);\n",
              "    border: none;\n",
              "    border-radius: 50%;\n",
              "    cursor: pointer;\n",
              "    display: none;\n",
              "    fill: var(--fill-color);\n",
              "    height: 32px;\n",
              "    padding: 0;\n",
              "    width: 32px;\n",
              "  }\n",
              "\n",
              "  .colab-df-quickchart:hover {\n",
              "    background-color: var(--hover-bg-color);\n",
              "    box-shadow: 0 1px 2px rgba(60, 64, 67, 0.3), 0 1px 3px 1px rgba(60, 64, 67, 0.15);\n",
              "    fill: var(--button-hover-fill-color);\n",
              "  }\n",
              "\n",
              "  .colab-df-quickchart-complete:disabled,\n",
              "  .colab-df-quickchart-complete:disabled:hover {\n",
              "    background-color: var(--disabled-bg-color);\n",
              "    fill: var(--disabled-fill-color);\n",
              "    box-shadow: none;\n",
              "  }\n",
              "\n",
              "  .colab-df-spinner {\n",
              "    border: 2px solid var(--fill-color);\n",
              "    border-color: transparent;\n",
              "    border-bottom-color: var(--fill-color);\n",
              "    animation:\n",
              "      spin 1s steps(1) infinite;\n",
              "  }\n",
              "\n",
              "  @keyframes spin {\n",
              "    0% {\n",
              "      border-color: transparent;\n",
              "      border-bottom-color: var(--fill-color);\n",
              "      border-left-color: var(--fill-color);\n",
              "    }\n",
              "    20% {\n",
              "      border-color: transparent;\n",
              "      border-left-color: var(--fill-color);\n",
              "      border-top-color: var(--fill-color);\n",
              "    }\n",
              "    30% {\n",
              "      border-color: transparent;\n",
              "      border-left-color: var(--fill-color);\n",
              "      border-top-color: var(--fill-color);\n",
              "      border-right-color: var(--fill-color);\n",
              "    }\n",
              "    40% {\n",
              "      border-color: transparent;\n",
              "      border-right-color: var(--fill-color);\n",
              "      border-top-color: var(--fill-color);\n",
              "    }\n",
              "    60% {\n",
              "      border-color: transparent;\n",
              "      border-right-color: var(--fill-color);\n",
              "    }\n",
              "    80% {\n",
              "      border-color: transparent;\n",
              "      border-right-color: var(--fill-color);\n",
              "      border-bottom-color: var(--fill-color);\n",
              "    }\n",
              "    90% {\n",
              "      border-color: transparent;\n",
              "      border-bottom-color: var(--fill-color);\n",
              "    }\n",
              "  }\n",
              "</style>\n",
              "\n",
              "  <script>\n",
              "    async function quickchart(key) {\n",
              "      const quickchartButtonEl =\n",
              "        document.querySelector('#' + key + ' button');\n",
              "      quickchartButtonEl.disabled = true;  // To prevent multiple clicks.\n",
              "      quickchartButtonEl.classList.add('colab-df-spinner');\n",
              "      try {\n",
              "        const charts = await google.colab.kernel.invokeFunction(\n",
              "            'suggestCharts', [key], {});\n",
              "      } catch (error) {\n",
              "        console.error('Error during call to suggestCharts:', error);\n",
              "      }\n",
              "      quickchartButtonEl.classList.remove('colab-df-spinner');\n",
              "      quickchartButtonEl.classList.add('colab-df-quickchart-complete');\n",
              "    }\n",
              "    (() => {\n",
              "      let quickchartButtonEl =\n",
              "        document.querySelector('#df-afd08dbf-9d7c-40ca-af04-e677542ed8c4 button');\n",
              "      quickchartButtonEl.style.display =\n",
              "        google.colab.kernel.accessAllowed ? 'block' : 'none';\n",
              "    })();\n",
              "  </script>\n",
              "</div>\n",
              "    </div>\n",
              "  </div>\n"
            ]
          },
          "metadata": {},
          "execution_count": 30
        }
      ]
    },
    {
      "cell_type": "markdown",
      "source": [
        "La función de Python, llamada importar_base_bitcoin(), realiza lo siguiente:\n",
        "\n",
        "- Importa las variables globales df_bitcoin, precio_actual, tendencia, media_bitcoin y algoritmo_decision para que puedan ser utilizadas y modificadas dentro de la función.\n",
        "\n",
        "- Utiliza la biblioteca yfinance, importada previamente para obtener datos históricos de precios de Bitcoin en relación con el dólar estadounidense (BTC-USD). Estos datos se almacenan en el DataFrame de Pandas llamado df_bitcoin.\n",
        "\n",
        "- La función se utiliza para obtener datos históricos de precios de Bitcoin durante los últimos 7 días con un intervalo de 5 minutos. Estos datos se almacenan en el DataFrame df_bitcoin.\n",
        "\n",
        "- No retorna ningún valor explícito, pero los datos históricos de Bitcoin quedan disponibles en el DataFrame df_bitcoin.\n",
        "\n",
        "- Después de llamar a la función importar_base_bitcoin(), se puede acceder a los datos históricos de Bitcoin ejecutando df_bitcoin. Estos datos estarán disponibles para su posterior procesamiento o análisis.\n",
        "\n"
      ],
      "metadata": {
        "id": "Kp4Lfdumn09K"
      }
    },
    {
      "cell_type": "markdown",
      "source": [
        "## <font color='deepskyblue' style='font-size: 33px;'>  3 - WebScraping\n",
        "\n",
        "\n",
        "1.   Calculo del Precio Actual del Bitcoin\n",
        "2.   Calculo de la Tendencia del Bitcoin\n",
        "\n",
        "\n",
        "</font>\n",
        "\n",
        "---"
      ],
      "metadata": {
        "id": "xFXC_4wXfzsn"
      }
    },
    {
      "cell_type": "markdown",
      "source": [
        " - Utilizando la biblioteca BeautifulSoup realizamos el Web Scraping de la página https://coinmarketcap.com/ para extraer el precio actual del Bitcoin BTC en dólares USD y la variación de su precio en la última hora 1h . El precio debe convertirse a \"float\" y guardarse en la variable llamada \"precio_actual\". La variable \"tendencia\" guarda el valor de 'baja', si la variación del precio es negativa, sino, guarda el valor de 'alta'."
      ],
      "metadata": {
        "id": "n5kUD0vDfy6O"
      }
    },
    {
      "cell_type": "markdown",
      "source": [
        "### <font color='darkgrey' style='font-size: 33px;'> 3.1 WebScraping extrayendo los datos</font>"
      ],
      "metadata": {
        "id": "I2sBdlz3oxgp"
      }
    },
    {
      "cell_type": "markdown",
      "source": [
        "- Para eliminar los caracteres no numéricos (como \"$\" y \",\") y devolver el valor como un número decimal (por ejemplo, 27071.70)."
      ],
      "metadata": {
        "id": "PKuBYsJB5T-E"
      }
    },
    {
      "cell_type": "code",
      "source": [
        "def limpiar_precio(raw):\n",
        "  return float(raw.replace(\"$\", \"\").replace(\",\",\"\"))"
      ],
      "metadata": {
        "id": "lCgTyWhy2HSB"
      },
      "execution_count": 111,
      "outputs": []
    },
    {
      "cell_type": "markdown",
      "source": [
        "sc-a0353bbc-0 gDrtaY, sc-a0353bbc-0 gDrtaY fall, sc-a0353bbc-0 gDrtaY rise"
      ],
      "metadata": {
        "id": "JtscpiUV61Gg"
      }
    },
    {
      "cell_type": "code",
      "source": [
        "headers = {'User-Agent': 'Mozilla/5.0 (Macintosh; Intel Mac OS X 10_15_7) AppleWebKit/537.36 (KHTML, like Gecko) Chrome/111.0.0.0 Safari/537.36'}\n",
        "url = 'https://coinmarketcap.com'\n",
        "respuesta = requests.get(url, headers=headers)\n",
        "s = BeautifulSoup(respuesta.content, features='lxml')\n",
        "respuesta = s.findAll('p', {'class':'sc-4984dd93-0 kKpPOn coin-item-symbol'})\n",
        ""
      ],
      "metadata": {
        "id": "OR-qZLJdXGUf"
      },
      "execution_count": 112,
      "outputs": []
    },
    {
      "cell_type": "code",
      "source": [
        "indice=0\n",
        "for item in respuesta:\n",
        "  if item.getText()=='BTC':\n",
        "    break\n",
        "  indice+=1\n",
        "print('La posición actual del bitcoin en la tabla es: ', indice)"
      ],
      "metadata": {
        "colab": {
          "base_uri": "https://localhost:8080/"
        },
        "id": "vWd5xP9SXDZ9",
        "outputId": "ea5615c2-14df-4713-edbd-5ffd17ce782e"
      },
      "execution_count": 113,
      "outputs": [
        {
          "output_type": "stream",
          "name": "stdout",
          "text": [
            "La posición actual del bitcoin en la tabla es:  0\n"
          ]
        }
      ]
    },
    {
      "cell_type": "code",
      "source": [
        "respuesta = s.findAll('div', {'class':['sc-a0353bbc-0 gDrtaY', 'sc-a0353bbc-0 gDrtaY fall', 'sc-a0353bbc-0 gDrtaY rise']})\n",
        "precio_actual=float(respuesta[indice].getText().replace('$','').replace(',',''))\n",
        "print('El precio actual del bitcoin es: ', precio_actual)"
      ],
      "metadata": {
        "colab": {
          "base_uri": "https://localhost:8080/"
        },
        "id": "tngMdI84Zh_2",
        "outputId": "0dd23933-2e60-4115-aedb-b25c28ae39b8"
      },
      "execution_count": 114,
      "outputs": [
        {
          "output_type": "stream",
          "name": "stdout",
          "text": [
            "El precio actual del bitcoin es:  28440.08\n"
          ]
        }
      ]
    },
    {
      "cell_type": "code",
      "source": [
        "lista = []\n",
        "respuesta = s.findAll('span', {'class':['sc-d55c02b-0 gUnzUB']})\n",
        "for item in respuesta[::3]:\n",
        "  lista.append(item)\n",
        "  print(item)\n",
        ""
      ],
      "metadata": {
        "colab": {
          "base_uri": "https://localhost:8080/"
        },
        "id": "Nhzth5CmZ6I4",
        "outputId": "4530ec04-0bed-4c07-f0d9-b1f204c02954"
      },
      "execution_count": 115,
      "outputs": [
        {
          "output_type": "stream",
          "name": "stdout",
          "text": [
            "<span class=\"sc-d55c02b-0 gUnzUB\"><span class=\"icon-Caret-down\" style=\"width:12px;height:18px;display:inline-block\"></span>0.01%</span>\n",
            "<span class=\"sc-d55c02b-0 gUnzUB\"><span class=\"icon-Caret-down\" style=\"width:12px;height:18px;display:inline-block\"></span>0.00%</span>\n"
          ]
        }
      ]
    },
    {
      "cell_type": "code",
      "source": [
        "tendencia = ''\n",
        "if lista[indice].find('span')['class'][0] == 'icon-Caret-down':\n",
        "  tendencia = 'baja'\n",
        "else:\n",
        "  tendencia = 'alta'\n",
        "print('La tendencia actual del bitcoin es: ', tendencia)"
      ],
      "metadata": {
        "colab": {
          "base_uri": "https://localhost:8080/"
        },
        "id": "RZ9MY2Meabfl",
        "outputId": "754a277e-64a8-41aa-a03c-a97a75c38d52"
      },
      "execution_count": 116,
      "outputs": [
        {
          "output_type": "stream",
          "name": "stdout",
          "text": [
            "La tendencia actual del bitcoin es:  baja\n"
          ]
        }
      ]
    },
    {
      "cell_type": "code",
      "source": [
        "def extraer_tendencias():\n",
        "    headers = {\n",
        "        'User-Agent': 'Mozilla/5.0 (Windows NT 10.0; Win64; x64) AppleWebKit/537.36 (KHTML, like Gecko) Chrome/113.0.0.0 Safari/537.36'\n",
        "    }\n",
        "    url = 'https://coinmarketcap.com'\n",
        "\n",
        "respuesta = requests.get(url, headers=headers)\n",
        "s = BeautifulSoup(respuesta.content, features='lxml')\n",
        "respuesta = s.findAll('p', {'class':'sc-4984dd93-0 kKpPOn coin-item-symbol'})\n",
        "\n",
        "indice=0\n",
        "for item in respuesta:\n",
        "  if item.getText()=='BTC':\n",
        "    break\n",
        "  indice+=1\n",
        "\n",
        "# Calculando la tendencia exclusivamente del Bitcoin\n",
        "respuesta = s.findAll('div', {'class':['sc-a0353bbc-0 gDrtaY', 'sc-a0353bbc-0 gDrtaY fall', 'sc-a0353bbc-0 gDrtaY rise']})\n",
        "precio_actual=float(respuesta[indice].getText().replace('$','').replace(',',''))\n",
        "\n",
        "lista = []\n",
        "respuesta = s.findAll('span', {'class':['sc-d55c02b-0 gUnzUB']})\n",
        "for item in respuesta[::3]:\n",
        "    lista.append(item)\n",
        "\n",
        "\n",
        "tendencia = ''\n",
        "if lista[indice].find('span')['class'][0] == 'icon-Caret-down':\n",
        "  tendencia = 'baja'\n",
        "else:\n",
        "  tendencia = 'alta'\n",
        "\n",
        "\n",
        "print('El precio actual del bitcoin es: ', precio_actual)\n",
        "print('La tendencia actual del bitcoin es: ', tendencia)\n",
        "\n"
      ],
      "metadata": {
        "colab": {
          "base_uri": "https://localhost:8080/"
        },
        "id": "oGJoJey_2op5",
        "outputId": "fb846b9e-a41f-43ad-dd8d-fc606e9f7ae3"
      },
      "execution_count": 117,
      "outputs": [
        {
          "output_type": "stream",
          "name": "stdout",
          "text": [
            "El precio actual del bitcoin es:  28440.08\n",
            "La tendencia actual del bitcoin es:  baja\n"
          ]
        }
      ]
    },
    {
      "cell_type": "code",
      "source": [],
      "metadata": {
        "id": "aB4QhkWDkuoB"
      },
      "execution_count": 117,
      "outputs": []
    },
    {
      "cell_type": "markdown",
      "source": [
        "extraer_tendencias(), se encarga de obtener información sobre la tendencia del precio actual de Bitcoin desde el sitio web \"coinmarketcap.com\".\n",
        "\n",
        "- Se importan las variables globales, incluyendo df_bitcoin, precio_actual, tendencia, media_bitcoin, y algoritmo_decision.\n",
        "\n",
        "- Creamos un diccionario \"header\" que contiene información del agente de usuario (user-agent) para simular una solicitud de navegador web. Esto se hace para evitar restricciones de acceso en algunos sitios web.\n",
        "\n",
        "- Definimos la variable url, que es la URL de la página web de \"coinmarketcap.com\" que se va a raspar \"scrape\".\n",
        "\n",
        "- Se utiliza la biblioteca requests para hacer una solicitud HTTP a la URL especificada, incluyendo los encabezados definidos en headers. Luego, se verifica si la solicitud fue exitosa (sin errores) con response.raise_for_status().\n",
        "\n",
        "- Se crea un objeto BeautifulSoup (soup) a partir del contenido HTML de la página web obtenido en la respuesta de la solicitud.\n",
        "\n",
        "- La función busca un párrafo que contiene la palabra \"Bitcoin\" en el HTML de la página y encuentra la celda que lo contiene, así como la siguiente celda que contiene el precio actual de Bitcoin. El precio se almacena en la variable global precio_actual después de llamar a la función limpiar_precio() para eliminar cualquier símbolo o formato no deseado.\n",
        "\n",
        "![image.png](data:image/png;base64,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)\n",
        "\n",
        "- Luego, la función busca etiquetas HTML que contienen información sobre la tendencia de precios de Bitcoin. Estas etiquetas se almacenan en una lista que creamos llamada lista.\n",
        "\n",
        "- La función itera a través de la lista,  con bombre \"lista\" y verifica si la clase CSS de la etiqueta HTML indica una tendencia al alza o a la baja. La tendencia se almacena en la variable global tendencia como \"alta\" o \"baja\", dependiendo de la clase CSS encontrada en el primer elemento de lista.\n",
        "\n",
        "En resumen, esta función raspa \"scrape\"  la página de \"coinmarketcap.com\" para obtener el precio actual y la tendencia de precios de Bitcoin y almacena esta información en las variables globales."
      ],
      "metadata": {
        "id": "8MBI-EQEr-oH"
      }
    },
    {
      "cell_type": "code",
      "source": [
        "\n",
        "def extraer_tendencias2():\n",
        " global df_bitcoin, precio_actual, tendencia, media_bitcoin,  algoritmo_decision\n",
        " headers = {'User-Agent': 'Mozilla/5.0 (Windows NT 10.0; Win64; x64) AppleWebKit/537.36 (KHTML, like Gecko) Chrome/113.0.0.0 Safari/537.36'}\n",
        " url = 'https://coinmarketcap.com'\n",
        " response = requests.get(url, headers=headers)\n",
        " response.raise_for_status() #se detiene en caso de error\n",
        " soup = BeautifulSoup(response.content, 'lxml')\n",
        " parrafoBtc = soup.find(\"p\", string=\"Bitcoin\")\n",
        " columnaBtc = parrafoBtc.find_parent(\"tr\")\n",
        " columna_precio = columnaBtc.find_next_sibling()\n",
        " precio_actual2 = limpiar_precio(columna_precio.text)\n",
        "\n",
        " #Calculando la tendencia exclusivamente del Bitcoin\n",
        " lista = []\n",
        " respuesta = s.findAll('span', {'class':['sc-a0353bbc-0 gDrtaY', 'sc-a0353bbc-0 gDrtaY fall', 'sc-a0353bbc-0 gDrtaY rise']})\n",
        " for item2 in respuesta[::3]:\n",
        "    lista.append(item2)\n",
        "\n",
        " tendenciaBeau = ''\n",
        " indice=0\n",
        " if lista[indice].find('span')['class'][0] == 'icon-Caret-down':\n",
        "   tendenciaBeau = 'baja'\n",
        " else:\n",
        "   tendenciaBeau = 'alta'"
      ],
      "metadata": {
        "id": "dNRcYFvXf8LS"
      },
      "execution_count": 118,
      "outputs": []
    },
    {
      "cell_type": "code",
      "source": [
        "print(precio_actual, tendencia)"
      ],
      "metadata": {
        "id": "Fys_X51mpDpa",
        "colab": {
          "base_uri": "https://localhost:8080/"
        },
        "outputId": "133238cd-fd24-47bb-8ef5-4cb69594aa53"
      },
      "execution_count": 119,
      "outputs": [
        {
          "output_type": "stream",
          "name": "stdout",
          "text": [
            "28440.08 baja\n"
          ]
        }
      ]
    },
    {
      "cell_type": "markdown",
      "source": [
        "sc-d55c02b-0 gUnzUB"
      ],
      "metadata": {
        "id": "C53GlXFXjbCp"
      }
    },
    {
      "cell_type": "code",
      "source": [
        "def extraer_tendencias3():\n",
        "    global df_bitcoin, precio_actual, tendencia, media_bitcoin, algoritmo_decision\n",
        "\n",
        "    headers = {\n",
        "        'User-Agent': 'Mozilla/5.0 (Windows NT 10.0; Win64; x64) AppleWebKit/537.36 (KHTML, like Gecko) Chrome/113.0.0.0 Safari/537.36'\n",
        "    }\n",
        "\n",
        "    url = 'https://coinmarketcap.com'\n",
        "\n",
        "    try:\n",
        "        response = requests.get(url, headers=headers)\n",
        "        response.raise_for_status()  # Se detiene en caso de error\n",
        "        soup = BeautifulSoup(response.content, 'lxml')\n",
        "\n",
        "        # Buscar información de Bitcoin\n",
        "        parrafo_btc = soup.find(\"p\", string=\"Bitcoin\")\n",
        "        columna_btc = parrafo_btc.find_parent(\"tr\")\n",
        "        columna_precio = columna_btc.find_next_sibling()\n",
        "        precio_actual_3 = limpiar_precio(columna_precio.text)\n",
        "\n",
        "        # Calculando la tendencia exclusivamente del Bitcoin\n",
        "        lista = soup.find_all('div', class_=['sc-a0353bbc-0 gDrtaY', 'sc-a0353bbc-0 gDrtaY fall', 'sc-a0353bbc-0 gDrtaY rise'])\n",
        "\n",
        "        tendencia3 = 'alta' if 'icon-Caret-down' in lista[0].find('span')['class'] else 'baja'\n",
        "\n",
        "        return precio_actual_3, tendencia3\n",
        "\n",
        "    except requests.exceptions.RequestException as e:\n",
        "        print(f'Error al hacer la solicitud web: {e}')\n",
        "        return None, None"
      ],
      "metadata": {
        "id": "B4QGqprmmGbf"
      },
      "execution_count": 120,
      "outputs": []
    },
    {
      "cell_type": "code",
      "source": [
        "def limpiar_precio(raw):\n",
        "    # Elimina todo lo que no sea un número, punto decimal o coma\n",
        "    cleaned_price = ''.join(c for c in raw if c.isdigit() or c in ['.', ','])\n",
        "    # Reemplaza la coma con un punto para obtener un número flotante válido\n",
        "    cleaned_price = cleaned_price.replace(',', '.')\n",
        "    return float(cleaned_price)"
      ],
      "metadata": {
        "id": "su9p7NxbnkWC"
      },
      "execution_count": 121,
      "outputs": []
    },
    {
      "cell_type": "code",
      "source": [
        "precio_actual_3, tendencia3 = extraer_tendencias3()\n",
        "\n",
        "if precio_actual_3 is not None and tendencia3 is not None:\n",
        "    print(f'Precio actual de Bitcoin: {precio_actual_3}')\n",
        "    print(f'Tendencia de Bitcoin: {tendencia3}')\n",
        "else:\n",
        "    print('No se pudo obtener la información de Bitcoin.')"
      ],
      "metadata": {
        "colab": {
          "base_uri": "https://localhost:8080/",
          "height": 356
        },
        "id": "rOuccEIRnMwJ",
        "outputId": "de2e0832-9b98-4a8d-f468-86e1bad3292e"
      },
      "execution_count": 124,
      "outputs": [
        {
          "output_type": "error",
          "ename": "ValueError",
          "evalue": "ignored",
          "traceback": [
            "\u001b[0;31m---------------------------------------------------------------------------\u001b[0m",
            "\u001b[0;31mValueError\u001b[0m                                Traceback (most recent call last)",
            "\u001b[0;32m<ipython-input-124-6586d648ff18>\u001b[0m in \u001b[0;36m<cell line: 1>\u001b[0;34m()\u001b[0m\n\u001b[0;32m----> 1\u001b[0;31m \u001b[0mprecio_actual_3\u001b[0m\u001b[0;34m,\u001b[0m \u001b[0mtendencia3\u001b[0m \u001b[0;34m=\u001b[0m \u001b[0mextraer_tendencias3\u001b[0m\u001b[0;34m(\u001b[0m\u001b[0;34m)\u001b[0m\u001b[0;34m\u001b[0m\u001b[0;34m\u001b[0m\u001b[0m\n\u001b[0m\u001b[1;32m      2\u001b[0m \u001b[0;34m\u001b[0m\u001b[0m\n\u001b[1;32m      3\u001b[0m \u001b[0;32mif\u001b[0m \u001b[0mprecio_actual_3\u001b[0m \u001b[0;32mis\u001b[0m \u001b[0;32mnot\u001b[0m \u001b[0;32mNone\u001b[0m \u001b[0;32mand\u001b[0m \u001b[0mtendencia3\u001b[0m \u001b[0;32mis\u001b[0m \u001b[0;32mnot\u001b[0m \u001b[0;32mNone\u001b[0m\u001b[0;34m:\u001b[0m\u001b[0;34m\u001b[0m\u001b[0;34m\u001b[0m\u001b[0m\n\u001b[1;32m      4\u001b[0m     \u001b[0mprint\u001b[0m\u001b[0;34m(\u001b[0m\u001b[0;34mf'Precio actual de Bitcoin: {precio_actual_3}'\u001b[0m\u001b[0;34m)\u001b[0m\u001b[0;34m\u001b[0m\u001b[0;34m\u001b[0m\u001b[0m\n\u001b[1;32m      5\u001b[0m     \u001b[0mprint\u001b[0m\u001b[0;34m(\u001b[0m\u001b[0;34mf'Tendencia de Bitcoin: {tendencia3}'\u001b[0m\u001b[0;34m)\u001b[0m\u001b[0;34m\u001b[0m\u001b[0;34m\u001b[0m\u001b[0m\n",
            "\u001b[0;32m<ipython-input-120-454a4897026d>\u001b[0m in \u001b[0;36mextraer_tendencias3\u001b[0;34m()\u001b[0m\n\u001b[1;32m     17\u001b[0m         \u001b[0mcolumna_btc\u001b[0m \u001b[0;34m=\u001b[0m \u001b[0mparrafo_btc\u001b[0m\u001b[0;34m.\u001b[0m\u001b[0mfind_parent\u001b[0m\u001b[0;34m(\u001b[0m\u001b[0;34m\"tr\"\u001b[0m\u001b[0;34m)\u001b[0m\u001b[0;34m\u001b[0m\u001b[0;34m\u001b[0m\u001b[0m\n\u001b[1;32m     18\u001b[0m         \u001b[0mcolumna_precio\u001b[0m \u001b[0;34m=\u001b[0m \u001b[0mcolumna_btc\u001b[0m\u001b[0;34m.\u001b[0m\u001b[0mfind_next_sibling\u001b[0m\u001b[0;34m(\u001b[0m\u001b[0;34m)\u001b[0m\u001b[0;34m\u001b[0m\u001b[0;34m\u001b[0m\u001b[0m\n\u001b[0;32m---> 19\u001b[0;31m         \u001b[0mprecio_actual_3\u001b[0m \u001b[0;34m=\u001b[0m \u001b[0mlimpiar_precio\u001b[0m\u001b[0;34m(\u001b[0m\u001b[0mcolumna_precio\u001b[0m\u001b[0;34m.\u001b[0m\u001b[0mtext\u001b[0m\u001b[0;34m)\u001b[0m\u001b[0;34m\u001b[0m\u001b[0;34m\u001b[0m\u001b[0m\n\u001b[0m\u001b[1;32m     20\u001b[0m \u001b[0;34m\u001b[0m\u001b[0m\n\u001b[1;32m     21\u001b[0m         \u001b[0;31m# Calculando la tendencia exclusivamente del Bitcoin\u001b[0m\u001b[0;34m\u001b[0m\u001b[0;34m\u001b[0m\u001b[0m\n",
            "\u001b[0;32m<ipython-input-121-fb1844dce84e>\u001b[0m in \u001b[0;36mlimpiar_precio\u001b[0;34m(raw)\u001b[0m\n\u001b[1;32m      4\u001b[0m     \u001b[0;31m# Reemplaza la coma con un punto para obtener un número flotante válido\u001b[0m\u001b[0;34m\u001b[0m\u001b[0;34m\u001b[0m\u001b[0m\n\u001b[1;32m      5\u001b[0m     \u001b[0mcleaned_price\u001b[0m \u001b[0;34m=\u001b[0m \u001b[0mcleaned_price\u001b[0m\u001b[0;34m.\u001b[0m\u001b[0mreplace\u001b[0m\u001b[0;34m(\u001b[0m\u001b[0;34m','\u001b[0m\u001b[0;34m,\u001b[0m \u001b[0;34m'.'\u001b[0m\u001b[0;34m)\u001b[0m\u001b[0;34m\u001b[0m\u001b[0;34m\u001b[0m\u001b[0m\n\u001b[0;32m----> 6\u001b[0;31m     \u001b[0;32mreturn\u001b[0m \u001b[0mfloat\u001b[0m\u001b[0;34m(\u001b[0m\u001b[0mcleaned_price\u001b[0m\u001b[0;34m)\u001b[0m\u001b[0;34m\u001b[0m\u001b[0;34m\u001b[0m\u001b[0m\n\u001b[0m",
            "\u001b[0;31mValueError\u001b[0m: could not convert string to float: '21.596.220.532.051.02192.12192.122.680.4518.736.656.6125.468.736120.259.760'"
          ]
        }
      ]
    },
    {
      "cell_type": "code",
      "source": [
        "print( extraer_tendencias3)"
      ],
      "metadata": {
        "id": "X8zJFQ6MmSMP"
      },
      "execution_count": null,
      "outputs": []
    },
    {
      "cell_type": "markdown",
      "source": [
        "## <font color='deepskyblue' style='font-size: 33px;'>  4 - WebScraping\n",
        "\n",
        "\n",
        "1.   Calculo del Precio Actual del Bitcoin\n",
        "2.   Calculo de la Tendencia del Bitcoin\n",
        "\n",
        "\n",
        "</font>\n",
        "\n",
        "---"
      ],
      "metadata": {
        "id": "IotHp6LxlWEG"
      }
    },
    {
      "cell_type": "code",
      "source": [],
      "metadata": {
        "id": "61jGwASUtGr_"
      },
      "execution_count": null,
      "outputs": []
    }
  ]
}